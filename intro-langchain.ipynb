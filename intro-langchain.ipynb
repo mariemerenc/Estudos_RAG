{
 "cells": [
  {
   "cell_type": "markdown",
   "metadata": {},
   "source": [
    "# Introdução ao LangChain e aplicações com LLMs\n",
    "\n"
   ]
  },
  {
   "cell_type": "markdown",
   "metadata": {},
   "source": [
    "## 1. O que é o Langchain?\n",
    "\n",
    "* Um framework para desenvolver aplicações que utilizam Large Language Models (LLMs).\n",
    "\n",
    "* Facilita a integração de modelos, fontes de dados, memória e agentes inteligentes.\n",
    "\n",
    "* Permite criar chatbots, sistemas de resposta a perguntas, automações de workflow, etc."
   ]
  },
  {
   "cell_type": "markdown",
   "metadata": {},
   "source": [
    "Para este estudo, utilizaremos a IA do Google: Gemini\n",
    "Assim, para fazer o download desta biblioteca, digite no terminal:\n",
    "\n",
    "```powershell\n",
    "  pip install langchain-google-genai\n",
    "```"
   ]
  },
  {
   "cell_type": "markdown",
   "metadata": {},
   "source": [
    "## 2. Criando pipeline simples"
   ]
  },
  {
   "cell_type": "code",
   "execution_count": null,
   "metadata": {},
   "outputs": [],
   "source": [
    "import os\n",
    "from dotenv import load_dotenv\n",
    "\n",
    "# configuração do modelo: mude para a sua chave de API do Google\n",
    "load_dotenv()\n",
    "os.environ[\"GOOGLE_API_KEY\"] = os.getenv('GOOGLE_API_KEY')"
   ]
  },
  {
   "cell_type": "code",
   "execution_count": null,
   "metadata": {},
   "outputs": [
    {
     "name": "stdout",
     "output_type": "stream",
     "text": [
      "A teoria da relatividade de Einstein é na verdade duas teorias: a **relatividade restrita** e a **relatividade geral**.  Vamos simplificar cada uma:\n",
      "\n",
      "**Relatividade Restrita (Especial):**\n",
      "\n",
      "Imagine duas pessoas, Alice e Bob. Alice está parada, e Bob está num foguete voando a uma velocidade muito alta.  A relatividade restrita diz duas coisas importantes:\n",
      "\n",
      "1. **A velocidade da luz é constante para todos:**  Não importa se você está parado ou movendo-se a uma velocidade incrível, a luz sempre viajará a 299.792.458 metros por segundo em relação a você.  Isso parece estranho, mas é verdade!\n",
      "\n",
      "2. **Espaço e tempo são relativos:** Para Alice, o tempo passa normalmente. Mas para Bob, no foguete, o tempo passa mais lentamente do que para Alice (de forma imperceptível em velocidades cotidianas, mas significativa em velocidades próximas à da luz).  Além disso, o comprimento do foguete parece menor para Alice do que para Bob.  Ou seja, espaço e tempo se \"misturam\" e dependem da velocidade relativa entre observadores.\n",
      "\n",
      "Em resumo: quanto mais rápido você se move, mais lento o tempo passa para você e menor você fica (em relação a um observador parado).\n",
      "\n",
      "\n",
      "**Relatividade Geral:**\n",
      "\n",
      "A relatividade geral estende a relatividade restrita para incluir a gravidade.  Ela afirma que:\n",
      "\n",
      "* **A gravidade não é uma força, mas uma curvatura do espaço-tempo:** Imagine uma bola de boliche colocada sobre um lençol esticado. A bola cria uma depressão, e se você rolar uma pequena bola de gude perto da bola de boliche, ela vai curvar sua trajetória e \"cair\" em direção à bola de boliche.  A relatividade geral diz que objetos massivos, como estrelas e planetas, fazem o mesmo com o espaço-tempo.  A \"depressão\" criada pela massa de um objeto é o que percebemos como gravidade.  Objetos seguem a curvatura do espaço-tempo.\n",
      "\n",
      "* **Objetos massivos distorcem o espaço-tempo:** Quanto mais massivo o objeto, maior a curvatura do espaço-tempo ao seu redor.  Isso explica por que a Terra orbita o Sol: a Terra está seguindo a curvatura do espaço-tempo causada pela massa do Sol.\n",
      "\n",
      "\n",
      "Em resumo: a relatividade geral diz que a gravidade é uma consequência da curvatura do espaço-tempo causada pela massa e energia.\n",
      "\n",
      "É importante notar que essas são simplificações muito básicas. A teoria da relatividade é extremamente complexa e requer matemática avançada para ser totalmente compreendida. Mas espero que esta explicação tenha dado uma ideia geral do que ela trata.\n"
     ]
    }
   ],
   "source": [
    "from langchain_google_genai import ChatGoogleGenerativeAI\n",
    "\n",
    "llm = ChatGoogleGenerativeAI(model=\"gemini-1.5-flash\")\n",
    "resposta = llm.invoke(\"Explique a teoria da relatividade em termos simples.\") # gerando uma resposta simples\n",
    "print(resposta.content)"
   ]
  },
  {
   "cell_type": "markdown",
   "metadata": {},
   "source": [
    "## 3. Prompts no Langchain "
   ]
  },
  {
   "cell_type": "code",
   "execution_count": 11,
   "metadata": {},
   "outputs": [
    {
     "name": "stdout",
     "output_type": "stream",
     "text": [
      "Explique sobre Inteligência Artificial de forma simples e objetiva.\n"
     ]
    }
   ],
   "source": [
    "from langchain.prompts import PromptTemplate\n",
    "\n",
    "# criando um modelo de prompt\n",
    "template = PromptTemplate(\n",
    "    input_variables=[\"tema\"],\n",
    "    template=\"Explique sobre {tema} de forma simples e objetiva.\"\n",
    ")\n",
    "\n",
    "# gerando o prompt formatado\n",
    "prompt_formatado = template.format(tema=\"Inteligência Artificial\")\n",
    "print(prompt_formatado)\n"
   ]
  },
  {
   "cell_type": "markdown",
   "metadata": {},
   "source": [
    "## 4. Cadeias de processamento (Chains)"
   ]
  },
  {
   "cell_type": "code",
   "execution_count": 12,
   "metadata": {},
   "outputs": [
    {
     "name": "stderr",
     "output_type": "stream",
     "text": [
      "C:\\Users\\marie\\AppData\\Local\\Temp\\ipykernel_9016\\1808422957.py:4: LangChainDeprecationWarning: The class `LLMChain` was deprecated in LangChain 0.1.17 and will be removed in 1.0. Use :meth:`~RunnableSequence, e.g., `prompt | llm`` instead.\n",
      "  chain = LLMChain(llm=llm, prompt=template)\n",
      "C:\\Users\\marie\\AppData\\Local\\Temp\\ipykernel_9016\\1808422957.py:7: LangChainDeprecationWarning: The method `Chain.run` was deprecated in langchain 0.1.0 and will be removed in 1.0. Use :meth:`~invoke` instead.\n",
      "  resposta = chain.run(\"Machine Learning\")\n"
     ]
    },
    {
     "name": "stdout",
     "output_type": "stream",
     "text": [
      "Machine Learning (Aprendizado de Máquina) é como ensinar um computador a aprender sem ser explicitamente programado para cada tarefa.  Em vez disso, você fornece ao computador muitos exemplos (dados), e ele encontra padrões nesses dados para fazer previsões ou tomar decisões.\n",
      "\n",
      "Imagine ensinar um cachorro a sentar: você mostra o comando \"senta\" várias vezes, e o recompensa quando ele faz certo.  O cachorro aprende o padrão entre o comando e a recompensa.  O Machine Learning é similar:  alimentamos o computador com dados, e ele \"aprende\" os padrões para realizar tarefas como:\n",
      "\n",
      "* **Classificação:**  Identificar se uma imagem é um gato ou um cachorro.\n",
      "* **Regressão:** Prever o preço de uma casa baseado em sua área e localização.\n",
      "* **Agrupamento:**  Agrupar clientes com comportamentos de compra similares.\n",
      "\n",
      "Em resumo: **dados + algoritmo = aprendizado + previsão/decisão.**\n"
     ]
    }
   ],
   "source": [
    "from langchain.chains import LLMChain\n",
    "\n",
    "# criando uma cadeia que recebe um prompt e gera uma resposta\n",
    "chain = LLMChain(llm=llm, prompt=template)\n",
    "\n",
    "# executando a cadeia\n",
    "resposta = chain.run(\"Machine Learning\")\n",
    "print(resposta)\n"
   ]
  },
  {
   "cell_type": "markdown",
   "metadata": {},
   "source": [
    "## 5. Memória em aplicações com LLMs"
   ]
  },
  {
   "cell_type": "code",
   "execution_count": 13,
   "metadata": {},
   "outputs": [
    {
     "name": "stderr",
     "output_type": "stream",
     "text": [
      "C:\\Users\\marie\\AppData\\Local\\Temp\\ipykernel_9016\\4026064400.py:5: LangChainDeprecationWarning: Please see the migration guide at: https://python.langchain.com/docs/versions/migrating_memory/\n",
      "  memory = ConversationBufferMemory()\n",
      "C:\\Users\\marie\\AppData\\Local\\Temp\\ipykernel_9016\\4026064400.py:8: LangChainDeprecationWarning: The class `ConversationChain` was deprecated in LangChain 0.2.7 and will be removed in 1.0. Use :meth:`~RunnableWithMessageHistory: https://python.langchain.com/v0.2/api_reference/core/runnables/langchain_core.runnables.history.RunnableWithMessageHistory.html` instead.\n",
      "  chat = ConversationChain(llm=llm, memory=memory)\n"
     ]
    },
    {
     "name": "stdout",
     "output_type": "stream",
     "text": [
      "A capital da França é Paris.  Paris é uma cidade vibrante e histórica, localizada no norte da França, às margens do rio Sena.  É um importante centro cultural, econômico e político, conhecida por seus monumentos icônicos como a Torre Eiffel, o Louvre e a Catedral de Notre-Dame.  Sua população é de aproximadamente 2,1 milhões de habitantes dentro dos limites da cidade, e a área metropolitana abrange uma população significativamente maior.  A cidade é famosa por sua arquitetura, museus, gastronomia e vida noturna, atraindo milhões de turistas todos os anos.  Seu clima é temperado, com verões quentes e invernos relativamente frios e úmidos.\n",
      "A população de Paris dentro dos limites da cidade é de aproximadamente 2,1 milhões de habitantes.  No entanto, a área metropolitana de Paris, que inclui os subúrbios, tem uma população significativamente maior, estimada em cerca de 12 milhões de pessoas.  É importante distinguir entre a população da cidade propriamente dita e a população da região metropolitana para obter uma compreensão completa do tamanho da área urbana.\n"
     ]
    }
   ],
   "source": [
    "from langchain.memory import ConversationBufferMemory\n",
    "from langchain.chains import ConversationChain\n",
    "\n",
    "# criando memória para armazenar o histórico da conversa\n",
    "memory = ConversationBufferMemory()\n",
    "\n",
    "# criando uma cadeia de conversa com memória\n",
    "chat = ConversationChain(llm=llm, memory=memory)\n",
    "\n",
    "# testando o chatbot\n",
    "print(chat.run(\"Qual é a capital da França?\"))\n",
    "print(chat.run(\"E qual a população dessa cidade?\"))\n"
   ]
  },
  {
   "cell_type": "markdown",
   "metadata": {},
   "source": [
    "## 6. Criando Agentes"
   ]
  },
  {
   "cell_type": "code",
   "execution_count": null,
   "metadata": {},
   "outputs": [
    {
     "name": "stdout",
     "output_type": "stream",
     "text": [
      "\n",
      "\n",
      "\u001b[1m> Entering new AgentExecutor chain...\u001b[0m\n",
      "\u001b[32;1m\u001b[1;3mThought: I need to use the Conversor de Moeda tool to convert 100 USD to EUR using the given exchange rate.\n",
      "Action: Conversor de Moeda\n",
      "Action Input: valor=100, taxa=0.85\u001b[0m\n",
      "Observation: \u001b[36;1m\u001b[1;3mO valor convertido é 85.00\u001b[0m\n",
      "Thought:\u001b[32;1m\u001b[1;3mThought: I now know the final answer\n",
      "Final Answer: 85 euros\u001b[0m\n",
      "\n",
      "\u001b[1m> Finished chain.\u001b[0m\n",
      "85 euros\n"
     ]
    }
   ],
   "source": [
    "from langchain.agents import AgentType, initialize_agent\n",
    "from langchain.tools import Tool\n",
    "\n",
    "# definindo ferramentas que o agente pode usar\n",
    "def conversor_moeda(tool_input):\n",
    "    \"\"\"Recebe uma string no formato 'valor=100, taxa=0.85' e retorna a conversão.\"\"\"\n",
    "    try:\n",
    "        # separar os argumentos baseados no formato esperado \"valor=100, taxa=0.85\"\n",
    "        args = dict(item.split(\"=\") for item in tool_input.replace(\" \", \"\").split(\",\"))\n",
    "\n",
    "        # convertendo para float\n",
    "        valor = float(args.get(\"valor\", 0))\n",
    "        taxa = float(args.get(\"taxa\", 1))\n",
    "\n",
    "        return f\"O valor convertido é {valor * taxa:.2f}\"\n",
    "    except Exception as e:\n",
    "        return f\"Erro ao converter: {str(e)}\"\n",
    "\n",
    "# criando a ferramenta\n",
    "conversor_tool = Tool(\n",
    "    name=\"Conversor de Moeda\",\n",
    "    func=conversor_moeda,\n",
    "    description=\"Converte um valor de uma moeda para outra com base na taxa de câmbio. \"\n",
    "                \"Entrada deve ser no formato 'valor=100, taxa=0.85'.\"\n",
    ")\n",
    "\n",
    "# criando um agente que pode usar ferramentas externas\n",
    "agent = initialize_agent(\n",
    "    tools=[conversor_tool],\n",
    "    llm=llm,\n",
    "    agent=AgentType.ZERO_SHOT_REACT_DESCRIPTION,\n",
    "    verbose=True\n",
    ")\n",
    "\n",
    "# testando o agente\n",
    "resposta = agent.run(\"Converta 100 dólares para euros considerando uma taxa de 0.85.\")\n",
    "print(resposta)\n"
   ]
  },
  {
   "cell_type": "markdown",
   "metadata": {},
   "source": [
    "## 7. Deploy de aplicações com Langchain"
   ]
  },
  {
   "cell_type": "code",
   "execution_count": null,
   "metadata": {},
   "outputs": [],
   "source": [
    "from fastapi import FastAPI\n",
    "from langchain.chains import LLMChain\n",
    "\n",
    "app = FastAPI()\n",
    "\n",
    "@app.get(\"/pergunta/\")\n",
    "def perguntar(pergunta: str):\n",
    "    resposta = chain.run(pergunta)\n",
    "    return {\"resposta\": resposta}\n",
    "\n",
    "# para rodar a API: uvicorn nome_do_arquivo:app --reload\n"
   ]
  }
 ],
 "metadata": {
  "kernelspec": {
   "display_name": ".venv",
   "language": "python",
   "name": "python3"
  },
  "language_info": {
   "codemirror_mode": {
    "name": "ipython",
    "version": 3
   },
   "file_extension": ".py",
   "mimetype": "text/x-python",
   "name": "python",
   "nbconvert_exporter": "python",
   "pygments_lexer": "ipython3",
   "version": "3.12.6"
  }
 },
 "nbformat": 4,
 "nbformat_minor": 2
}
